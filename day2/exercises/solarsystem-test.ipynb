{
 "cells": [
  {
   "cell_type": "markdown",
   "metadata": {},
   "source": [
    "Write a `solarsystem.py` file that implements the `Planet`, `Star`, and `System` objects such that running the cells in this notebook produce the desired output.  For calculating planet densities, just use that the density of Earth is 5.51 g/cc, and scale from there."
   ]
  },
  {
   "cell_type": "code",
   "execution_count": 1,
   "metadata": {},
   "outputs": [
    {
     "ename": "ModuleNotFoundError",
     "evalue": "No module named 'solarsystem'",
     "output_type": "error",
     "traceback": [
      "\u001b[0;31m---------------------------------------------------------------------------\u001b[0m",
      "\u001b[0;31mModuleNotFoundError\u001b[0m                       Traceback (most recent call last)",
      "\u001b[0;32m<ipython-input-1-2851ddc70f1c>\u001b[0m in \u001b[0;36m<module>\u001b[0;34m\u001b[0m\n\u001b[0;32m----> 1\u001b[0;31m \u001b[0;32mfrom\u001b[0m \u001b[0msolarsystem\u001b[0m \u001b[0;32mimport\u001b[0m \u001b[0mPlanet\u001b[0m\u001b[0;34m,\u001b[0m \u001b[0mStar\u001b[0m\u001b[0;34m,\u001b[0m \u001b[0mSystem\u001b[0m\u001b[0;34m\u001b[0m\u001b[0;34m\u001b[0m\u001b[0m\n\u001b[0m",
      "\u001b[0;31mModuleNotFoundError\u001b[0m: No module named 'solarsystem'"
     ]
    }
   ],
   "source": [
    "from solarsystem import Planet, Star, System"
   ]
  },
  {
   "cell_type": "code",
   "execution_count": 2,
   "metadata": {},
   "outputs": [
    {
     "name": "stdout",
     "output_type": "stream",
     "text": [
      "Sol: 1.00 M_sun, 1.00 R_sun\n"
     ]
    }
   ],
   "source": [
    "sun = Star()\n",
    "print(sun)"
   ]
  },
  {
   "cell_type": "markdown",
   "metadata": {},
   "source": [
    "Output should be:\n",
    "\n",
    "    Sol: 1.00 M_sun, 1.00 R_sun"
   ]
  },
  {
   "cell_type": "code",
   "execution_count": 3,
   "metadata": {},
   "outputs": [
    {
     "name": "stdout",
     "output_type": "stream",
     "text": [
      "Demisol: 0.50 M_sun, 0.50 R_sun\n"
     ]
    }
   ],
   "source": [
    "half_sun = Star(mass=0.5, radius=0.5, name='Demisol')\n",
    "print(half_sun)"
   ]
  },
  {
   "cell_type": "markdown",
   "metadata": {},
   "source": [
    "Output should be:\n",
    "\n",
    "    Demisol: 0.50 M_sun, 0.50 R_sun"
   ]
  },
  {
   "cell_type": "code",
   "execution_count": 4,
   "metadata": {},
   "outputs": [
    {
     "name": "stdout",
     "output_type": "stream",
     "text": [
      "Earth: 365 days, 1.00 R_earth, 1.00 M_earth, density = 5.5 g/cc\n",
      "Venus: 226 days, 0.92 R_earth, 0.85 M_earth, density = 6.0 g/cc\n",
      "5.73156386126\n"
     ]
    }
   ],
   "source": [
    "earth = Planet(365, 1.0, mass=1.0, name='Earth')\n",
    "print(earth)\n",
    "venus = Planet(226, 0.92, name='Venus') #if mass not provided, use M = R^2\n",
    "print(venus)\n",
    "venus.mass = 0.81 #Venus's actual mass\n",
    "print venus.density"
   ]
  },
  {
   "cell_type": "markdown",
   "metadata": {},
   "source": [
    "Output should be:\n",
    "\n",
    "    Earth: 365 days, 1.00 R_earth, 1.00 M_earth, density = 5.5 g/cc\n",
    "    Venus: 226 days, 0.92 R_earth, 0.85 M_earth, density = 6.0 g/cc\n",
    "    5.73156386126"
   ]
  },
  {
   "cell_type": "code",
   "execution_count": 5,
   "metadata": {},
   "outputs": [
    {
     "name": "stdout",
     "output_type": "stream",
     "text": [
      "2\n",
      "3\n",
      "Sol: 1.00 M_sun, 1.00 R_sun\n",
      "  Mercury: 88 days, 0.38 R_earth, 0.14 M_earth, density = 14.5 g/cc\n",
      "  Venus: 226 days, 0.92 R_earth, 0.81 M_earth, density = 5.7 g/cc\n",
      "  Earth: 365 days, 1.00 R_earth, 1.00 M_earth, density = 5.5 g/cc\n",
      "\n"
     ]
    }
   ],
   "source": [
    "ss = System(sun, planets=[earth, venus])\n",
    "print ss.n_planets\n",
    "mercury = Planet(88, 0.38, name='Mercury')\n",
    "ss.add_planet(mercury)\n",
    "print ss.n_planets\n",
    "print(ss)"
   ]
  },
  {
   "cell_type": "markdown",
   "metadata": {},
   "source": [
    "Output should be:\n",
    "\n",
    "    2\n",
    "    3\n",
    "    Sol: 1.00 M_sun, 1.00 R_sun\n",
    "      Mercury: 88 days, 0.38 R_earth, 0.14 M_earth, density = 14.5 g/cc\n",
    "      Venus: 226 days, 0.92 R_earth, 0.85 M_earth, density = 5.7 g/cc\n",
    "      Earth: 365 days, 1.00 R_earth, 1.00 M_earth, density = 5.5 g/cc"
   ]
  },
  {
   "cell_type": "code",
   "execution_count": 6,
   "metadata": {},
   "outputs": [
    {
     "name": "stdout",
     "output_type": "stream",
     "text": [
      "Earth: 365 days, 1.00 R_earth, 1.00 M_earth, density = 5.5 g/cc\n"
     ]
    }
   ],
   "source": [
    "print(ss['Earth'])"
   ]
  },
  {
   "cell_type": "markdown",
   "metadata": {},
   "source": [
    "Output should be:\n",
    "\n",
    "    Earth: 365 days, 1.00 R_earth, 1.00 M_earth, density = 5.5 g/cc"
   ]
  },
  {
   "cell_type": "code",
   "execution_count": 7,
   "metadata": {},
   "outputs": [
    {
     "name": "stdout",
     "output_type": "stream",
     "text": [
      "Planet does not have name, will be named Demisol-b.\n",
      "Planet does not have name, will be named Demisol-c.\n",
      "Planet does not have name, will be named Demisol-d.\n",
      "Demisol: 0.50 M_sun, 0.50 R_sun\n",
      "  Demisol-b: 44 days, 0.19 R_earth, 0.04 M_earth, density = 29.0 g/cc\n",
      "  Demisol-d: 113 days, 0.46 R_earth, 0.21 M_earth, density = 12.0 g/cc\n",
      "  Demisol-c: 182 days, 0.50 R_earth, 0.25 M_earth, density = 11.0 g/cc\n",
      "\n"
     ]
    }
   ],
   "source": [
    "ss2 = System(half_sun)\n",
    "ss2.add_planet(Planet(44, 0.19))\n",
    "ss2.add_planet(Planet(182, 0.5))\n",
    "ss2.add_planet(Planet(113, 0.46))\n",
    "print(ss2)"
   ]
  },
  {
   "cell_type": "markdown",
   "metadata": {},
   "source": [
    "Output should be:\n",
    "\n",
    "    Planet does not have name, will be named Demisol-b.\n",
    "    Planet does not have name, will be named Demisol-c.\n",
    "    Planet does not have name, will be named Demisol-d.\n",
    "    Demisol: 0.50 M_sun, 0.50 R_sun\n",
    "      Demisol-b: 44 days, 0.19 R_earth, 0.04 M_earth, density = 29.0 g/cc\n",
    "      Demisol-d: 113 days, 0.46 R_earth, 0.21 M_earth, density = 12.0 g/cc\n",
    "      Demisol-c: 182 days, 0.50 R_earth, 0.25 M_earth, density = 11.0 g/cc"
   ]
  },
  {
   "cell_type": "code",
   "execution_count": null,
   "metadata": {},
   "outputs": [],
   "source": []
  }
 ],
 "metadata": {
  "kernelspec": {
   "display_name": "Python 3",
   "language": "python",
   "name": "python3"
  },
  "language_info": {
   "codemirror_mode": {
    "name": "ipython",
    "version": 3
   },
   "file_extension": ".py",
   "mimetype": "text/x-python",
   "name": "python",
   "nbconvert_exporter": "python",
   "pygments_lexer": "ipython3",
   "version": "3.7.1"
  }
 },
 "nbformat": 4,
 "nbformat_minor": 1
}
