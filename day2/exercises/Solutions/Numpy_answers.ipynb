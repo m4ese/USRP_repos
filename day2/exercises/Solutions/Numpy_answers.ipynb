{
 "cells": [
  {
   "cell_type": "markdown",
   "metadata": {},
   "source": [
    "# Exercise numpy\n",
    "The ultimate goal of this exercise is to compare the position of stars in a patch of sky as measured in two different surveys. The main task at hand is to identify matching positions of stars between the surveys. For this, we will need to compare the positions of all stars in one survey to the position of all stars in the other survey. This task can be extremely time consuming if not implemented properly, we will therefore use this to compare different coding style and their impact on computation time. \n",
    "\n",
    "If time allows, we will move on to represent the results of our analysis in a meaningfull way."
   ]
  },
  {
   "cell_type": "code",
   "execution_count": 1,
   "metadata": {},
   "outputs": [],
   "source": [
    "import numpy as np \n",
    "import matplotlib.pyplot as plt #We might need this\n"
   ]
  },
  {
   "cell_type": "code",
   "execution_count": 2,
   "metadata": {},
   "outputs": [
    {
     "ename": "OSError",
     "evalue": "./Catalog_HSC.csv not found.",
     "output_type": "error",
     "traceback": [
      "\u001b[0;31m---------------------------------------------------------------------------\u001b[0m",
      "\u001b[0;31mOSError\u001b[0m                                   Traceback (most recent call last)",
      "\u001b[0;32m<ipython-input-2-0bd18ac3eab7>\u001b[0m in \u001b[0;36m<module>\u001b[0;34m\u001b[0m\n\u001b[1;32m      1\u001b[0m \u001b[0;31m#First, let us load the data\u001b[0m\u001b[0;34m\u001b[0m\u001b[0;34m\u001b[0m\u001b[0;34m\u001b[0m\u001b[0m\n\u001b[1;32m      2\u001b[0m \u001b[0;31m#Catalog from HSC\u001b[0m\u001b[0;34m\u001b[0m\u001b[0;34m\u001b[0m\u001b[0;34m\u001b[0m\u001b[0m\n\u001b[0;32m----> 3\u001b[0;31m \u001b[0mcat_hsc\u001b[0m \u001b[0;34m=\u001b[0m \u001b[0mnp\u001b[0m\u001b[0;34m.\u001b[0m\u001b[0mloadtxt\u001b[0m\u001b[0;34m(\u001b[0m\u001b[0;34m'./Catalog_HSC.csv'\u001b[0m\u001b[0;34m)\u001b[0m\u001b[0;34m\u001b[0m\u001b[0;34m\u001b[0m\u001b[0m\n\u001b[0m\u001b[1;32m      4\u001b[0m \u001b[0mra_hsc\u001b[0m \u001b[0;34m=\u001b[0m \u001b[0mcat_hsc\u001b[0m\u001b[0;34m[\u001b[0m\u001b[0;34m:\u001b[0m\u001b[0;34m,\u001b[0m\u001b[0;36m0\u001b[0m\u001b[0;34m]\u001b[0m\u001b[0;34m\u001b[0m\u001b[0;34m\u001b[0m\u001b[0m\n\u001b[1;32m      5\u001b[0m \u001b[0mdec_hsc\u001b[0m \u001b[0;34m=\u001b[0m \u001b[0mcat_hsc\u001b[0m\u001b[0;34m[\u001b[0m\u001b[0;34m:\u001b[0m\u001b[0;34m,\u001b[0m\u001b[0;36m1\u001b[0m\u001b[0;34m]\u001b[0m\u001b[0;34m\u001b[0m\u001b[0;34m\u001b[0m\u001b[0m\n",
      "\u001b[0;32m/anaconda3/lib/python3.7/site-packages/numpy/lib/npyio.py\u001b[0m in \u001b[0;36mloadtxt\u001b[0;34m(fname, dtype, comments, delimiter, converters, skiprows, usecols, unpack, ndmin, encoding)\u001b[0m\n\u001b[1;32m    924\u001b[0m             \u001b[0mfname\u001b[0m \u001b[0;34m=\u001b[0m \u001b[0mstr\u001b[0m\u001b[0;34m(\u001b[0m\u001b[0mfname\u001b[0m\u001b[0;34m)\u001b[0m\u001b[0;34m\u001b[0m\u001b[0;34m\u001b[0m\u001b[0m\n\u001b[1;32m    925\u001b[0m         \u001b[0;32mif\u001b[0m \u001b[0m_is_string_like\u001b[0m\u001b[0;34m(\u001b[0m\u001b[0mfname\u001b[0m\u001b[0;34m)\u001b[0m\u001b[0;34m:\u001b[0m\u001b[0;34m\u001b[0m\u001b[0;34m\u001b[0m\u001b[0m\n\u001b[0;32m--> 926\u001b[0;31m             \u001b[0mfh\u001b[0m \u001b[0;34m=\u001b[0m \u001b[0mnp\u001b[0m\u001b[0;34m.\u001b[0m\u001b[0mlib\u001b[0m\u001b[0;34m.\u001b[0m\u001b[0m_datasource\u001b[0m\u001b[0;34m.\u001b[0m\u001b[0mopen\u001b[0m\u001b[0;34m(\u001b[0m\u001b[0mfname\u001b[0m\u001b[0;34m,\u001b[0m \u001b[0;34m'rt'\u001b[0m\u001b[0;34m,\u001b[0m \u001b[0mencoding\u001b[0m\u001b[0;34m=\u001b[0m\u001b[0mencoding\u001b[0m\u001b[0;34m)\u001b[0m\u001b[0;34m\u001b[0m\u001b[0;34m\u001b[0m\u001b[0m\n\u001b[0m\u001b[1;32m    927\u001b[0m             \u001b[0mfencoding\u001b[0m \u001b[0;34m=\u001b[0m \u001b[0mgetattr\u001b[0m\u001b[0;34m(\u001b[0m\u001b[0mfh\u001b[0m\u001b[0;34m,\u001b[0m \u001b[0;34m'encoding'\u001b[0m\u001b[0;34m,\u001b[0m \u001b[0;34m'latin1'\u001b[0m\u001b[0;34m)\u001b[0m\u001b[0;34m\u001b[0m\u001b[0;34m\u001b[0m\u001b[0m\n\u001b[1;32m    928\u001b[0m             \u001b[0mfh\u001b[0m \u001b[0;34m=\u001b[0m \u001b[0miter\u001b[0m\u001b[0;34m(\u001b[0m\u001b[0mfh\u001b[0m\u001b[0;34m)\u001b[0m\u001b[0;34m\u001b[0m\u001b[0;34m\u001b[0m\u001b[0m\n",
      "\u001b[0;32m/anaconda3/lib/python3.7/site-packages/numpy/lib/_datasource.py\u001b[0m in \u001b[0;36mopen\u001b[0;34m(path, mode, destpath, encoding, newline)\u001b[0m\n\u001b[1;32m    260\u001b[0m \u001b[0;34m\u001b[0m\u001b[0m\n\u001b[1;32m    261\u001b[0m     \u001b[0mds\u001b[0m \u001b[0;34m=\u001b[0m \u001b[0mDataSource\u001b[0m\u001b[0;34m(\u001b[0m\u001b[0mdestpath\u001b[0m\u001b[0;34m)\u001b[0m\u001b[0;34m\u001b[0m\u001b[0;34m\u001b[0m\u001b[0m\n\u001b[0;32m--> 262\u001b[0;31m     \u001b[0;32mreturn\u001b[0m \u001b[0mds\u001b[0m\u001b[0;34m.\u001b[0m\u001b[0mopen\u001b[0m\u001b[0;34m(\u001b[0m\u001b[0mpath\u001b[0m\u001b[0;34m,\u001b[0m \u001b[0mmode\u001b[0m\u001b[0;34m,\u001b[0m \u001b[0mencoding\u001b[0m\u001b[0;34m=\u001b[0m\u001b[0mencoding\u001b[0m\u001b[0;34m,\u001b[0m \u001b[0mnewline\u001b[0m\u001b[0;34m=\u001b[0m\u001b[0mnewline\u001b[0m\u001b[0;34m)\u001b[0m\u001b[0;34m\u001b[0m\u001b[0;34m\u001b[0m\u001b[0m\n\u001b[0m\u001b[1;32m    263\u001b[0m \u001b[0;34m\u001b[0m\u001b[0m\n\u001b[1;32m    264\u001b[0m \u001b[0;34m\u001b[0m\u001b[0m\n",
      "\u001b[0;32m/anaconda3/lib/python3.7/site-packages/numpy/lib/_datasource.py\u001b[0m in \u001b[0;36mopen\u001b[0;34m(self, path, mode, encoding, newline)\u001b[0m\n\u001b[1;32m    616\u001b[0m                                       encoding=encoding, newline=newline)\n\u001b[1;32m    617\u001b[0m         \u001b[0;32melse\u001b[0m\u001b[0;34m:\u001b[0m\u001b[0;34m\u001b[0m\u001b[0;34m\u001b[0m\u001b[0m\n\u001b[0;32m--> 618\u001b[0;31m             \u001b[0;32mraise\u001b[0m \u001b[0mIOError\u001b[0m\u001b[0;34m(\u001b[0m\u001b[0;34m\"%s not found.\"\u001b[0m \u001b[0;34m%\u001b[0m \u001b[0mpath\u001b[0m\u001b[0;34m)\u001b[0m\u001b[0;34m\u001b[0m\u001b[0;34m\u001b[0m\u001b[0m\n\u001b[0m\u001b[1;32m    619\u001b[0m \u001b[0;34m\u001b[0m\u001b[0m\n\u001b[1;32m    620\u001b[0m \u001b[0;34m\u001b[0m\u001b[0m\n",
      "\u001b[0;31mOSError\u001b[0m: ./Catalog_HSC.csv not found."
     ]
    }
   ],
   "source": [
    "#First, let us load the data\n",
    "#Catalog from HSC \n",
    "cat_hsc = np.loadtxt('./Catalog_HSC.csv')\n",
    "ra_hsc = cat_hsc[:,0]\n",
    "dec_hsc = cat_hsc[:,1]\n",
    "#Catalog from HST\n",
    "cat_hst = np.loadtxt('./Catalog_HST.csv')\n",
    "ra_hst = cat_hst[:,0]\n",
    "dec_hst = cat_hst[:,1]"
   ]
  },
  {
   "cell_type": "markdown",
   "metadata": {},
   "source": [
    "Check that the loaded data are consistent with what we expect: (ra, dec) coordinates of the same patch of sky"
   ]
  },
  {
   "cell_type": "code",
   "execution_count": null,
   "metadata": {},
   "outputs": [],
   "source": [
    "#First, check the number of stars in each survey:\n",
    "ns_hst = ra_hst.size\n",
    "ns_hsc = ra_hsc.size\n",
    "#Print the result\n",
    "print()"
   ]
  },
  {
   "cell_type": "code",
   "execution_count": null,
   "metadata": {},
   "outputs": [],
   "source": [
    "#This is a graphic representation of our data content:\n",
    "%matplotlib qt\n",
    "plt.title('star catalogs in COSMOS')\n",
    "plt.plot(ra_hsc, dec_hsc, 'or', label = 'hsc catalog')\n",
    "plt.plot(ra_hst, dec_hst, 'ob', label = 'hst catalog')\n",
    "plt.legend()\n",
    "plt.xlabel('ra')\n",
    "plt.ylabel('dec')\n",
    "plt.show()"
   ]
  },
  {
   "cell_type": "markdown",
   "metadata": {},
   "source": [
    "Now let's get to work. We would like to associate stars in one survey to their conterpart (if it exists) in the other survey. We will start by comparing the positions between each point of one survey to the position of each point in the other survey.\n",
    "\n",
    "First, write a function that takes two sets of coordinates (hsc and hst) and returns the distance from each point of one survey to each point of the other, such that the output should be an array of size (n_hst x n_hsc) or (n_hsc x n_hst).\n",
    "\n",
    "PS: if you have several (different) ideas about how to implement this, feel free to code them!"
   ]
  },
  {
   "cell_type": "code",
   "execution_count": 3,
   "metadata": {},
   "outputs": [],
   "source": [
    "def your_function(coord1, coord2):\n",
    "    ''' Returns the distance between points in two sets of coordinates.\n",
    "    \n",
    "    Parameters\n",
    "    coord1: array\n",
    "        array of size Nx2 that contains the [Ra, Dec] positions of a catalog \n",
    "    coord2: array\n",
    "        array of size Mx2 that contains the [Ra, Dec] positions of a catalog \n",
    "    \n",
    "    Returns\n",
    "    dist: array\n",
    "        array of size NxM that contains the euclidean distances between points in the two datasets\n",
    "    '''\n",
    "    \n",
    "    return 0\n"
   ]
  },
  {
   "cell_type": "markdown",
   "metadata": {},
   "source": [
    "Now, let us take a look at the computation times:"
   ]
  },
  {
   "cell_type": "code",
   "execution_count": 7,
   "metadata": {},
   "outputs": [],
   "source": [
    "# In order not to spend the whole evening here, let us reduce the dataset size:\n",
    "#Select stars in hsc in the frame: 150.0<ra<150.1 and 2.0<dec<2.1\n",
    "loc_hsc = (np.abs(dec_hsc-2.05)<0.05)*(np.abs(ra_hsc-150.05)<0.05)\n",
    "ra_hsc_exp = ra_hsc[loc_hsc]#please fill these\n",
    "dec_hsc_exp = dec_hsc[loc_hsc]#...\n",
    "\n",
    "loc_hst = (np.abs(dec_hst-2.05)<0.05)*(np.abs(ra_hst-150.05)<0.05)\n",
    "ra_hst_exp = ra_hst[loc_hst]#please fill these\n",
    "dec_hst_exp = dec_hst[loc_hst]#\n",
    "#Once you are done with the exercise, feel free to try with larger selections to see how it impacts computation time"
   ]
  },
  {
   "cell_type": "code",
   "execution_count": 8,
   "metadata": {},
   "outputs": [
    {
     "name": "stdout",
     "output_type": "stream",
     "text": [
      "your_function\n",
      "78.5 ns ± 2.47 ns per loop (mean ± std. dev. of 7 runs, 10000000 loops each)\n",
      "naive\n",
      "374 ms ± 17.7 ms per loop (mean ± std. dev. of 7 runs, 1 loop each)\n",
      "with_indices\n",
      "9.93 ms ± 361 µs per loop (mean ± std. dev. of 7 runs, 100 loops each)\n",
      "one_loop\n",
      "8.49 ms ± 273 µs per loop (mean ± std. dev. of 7 runs, 100 loops each)\n",
      "one_loop_reverse\n",
      "2.43 ms ± 57.9 µs per loop (mean ± std. dev. of 7 runs, 100 loops each)\n",
      "scipy_version\n",
      "533 µs ± 21.4 µs per loop (mean ± std. dev. of 7 runs, 1000 loops each)\n",
      "newaxis_magic\n",
      "5.3 ms ± 46.8 µs per loop (mean ± std. dev. of 7 runs, 100 loops each)\n"
     ]
    }
   ],
   "source": [
    "import distances as dt\n",
    "# Insert the names of your functions in the following array:\n",
    "methods = [your_function, dt.naive, dt.with_indices, dt.one_loop, dt.one_loop_reverse, dt.scipy_version, dt.newaxis_magic]\n",
    "#An empty variable to store computation time\n",
    "timers = []\n",
    "c2 = np.concatenate((ra_hst_exp[:,None], dec_hst_exp[:,None]), axis = 1)#Please fill these\n",
    "c1 = np.concatenate((ra_hsc_exp[:,None], dec_hsc_exp[:,None]), axis = 1)#\n",
    "\n",
    "\n",
    "for f in methods:\n",
    "    print(f.__name__)\n",
    "    r = %timeit -o f(c1, c2)\n",
    "    timers.append(r)"
   ]
  },
  {
   "cell_type": "code",
   "execution_count": 9,
   "metadata": {},
   "outputs": [
    {
     "data": {
      "text/plain": [
       "Text(0, 0.5, 'Time (ms)')"
      ]
     },
     "execution_count": 9,
     "metadata": {},
     "output_type": "execute_result"
    }
   ],
   "source": [
    "#View the results:\n",
    "plt.figure(figsize=(10,6))\n",
    "plt.bar(np.arange(len(methods)), [r.best*1000 for r in timers], log=False)  # Set log to True for logarithmic scale\n",
    "plt.xticks(np.arange(len(methods))+0.2, [f.__name__ for f in methods], rotation=30)\n",
    "plt.xlabel('Method')\n",
    "plt.ylabel('Time (ms)')"
   ]
  },
  {
   "cell_type": "markdown",
   "metadata": {},
   "source": [
    "# Identifying matching stars\n",
    "Now that we know all the distances, let us find the stars in each datasets that correspond to one another.\n",
    "This is done by finding, for each star, the minimum distance recorded between the two datasets.\n",
    "\n",
    "One problem that arises with deriving an array that computes all the distances is that we end up with a very LARGE array, which becomes impractical for fast computations. Instead, we will modify one of the previous functions so that it returns the coordinates of stars that have a match in both datasets along with their distance.\n",
    "\n",
    "Because all stars in a given set do not have a counter part in the other, we will only accept a match if the minimum distance between two points is smaller than 0.17 arcseconds (the size of an HSC pixel).\n",
    "\n",
    "In other words, for each star in one dataset, find the star in the other dataset that is the closest (minimum distance), check wether that star is closer that 0.17 arcseconds, if yes, store its coordinates along with the computed distance. At the end of the function, return arrays with the matching star coordinates and their distance to their match in the other dataset."
   ]
  },
  {
   "cell_type": "code",
   "execution_count": 10,
   "metadata": {},
   "outputs": [],
   "source": [
    "#Let us compute the distances as we did before, but this time, with the whole dataset.\n",
    "#Of course, a fast method is to be prefered\n",
    "\n",
    "c1 = np.concatenate((ra_hst[:,None], dec_hst[:,None]), axis = 1)#Please fill these\n",
    "c2 = np.concatenate((ra_hsc[:,None], dec_hsc[:,None]), axis = 1)\n"
   ]
  },
  {
   "cell_type": "code",
   "execution_count": 11,
   "metadata": {},
   "outputs": [],
   "source": [
    "def get_match(coord_ref, coord2, rad):\n",
    "    '''\n",
    "    matches coordinates of stars between two datasets and computes the distance between the position of the stars in the 2 datasets\n",
    "\n",
    "    Parameters\n",
    "    coord_ref: numpy array (Nx2)\n",
    "        coordinates (ra, dec) of stars in a FoV from a given dataset\n",
    "    coord2: numpy array (Mx2)\n",
    "        coordinates (ra dec) of stars in the same FoV in an other dataset\n",
    "    rad: float\n",
    "        radius (deg) around stars in coord_ref where to find a corresponding star in coord2\n",
    "            \n",
    "    Returns\n",
    "    modulus:numpy array (N')\n",
    "        containing the distance between matching stars\n",
    "    v_coord: numpy array(N',2)\n",
    "        coordinates in the coord_ref set of matching stars\n",
    "            \n",
    "\n",
    "    '''\n",
    "    #Declare two empty arrays to store the coordinates and distances.\n",
    "    modulus = []\n",
    "    v_coord = []\n",
    "    angle = []\n",
    "    s = np.size(coord_ref[:,0])\n",
    "    print('number of points in reference catalog: {0}'.format(s))\n",
    "    #for each star in coord_ref\n",
    "    for i,c in enumerate(coord_ref):\n",
    "\n",
    "        if i % 3000 == 0:\n",
    "            print('point number {0} out of {1}'.format(i, s))\n",
    "        #compute the distance to all stars in coord2\n",
    "        r = ((c[0]-coord2[:,0])**2+(c[1]-coord2[:,1])**2)**0.5\n",
    "        #Find the closest star from coord 2 to c\n",
    "        loc = np.array(np.where(r == np.min(r))).flatten()\n",
    "\n",
    "        #Make sure that there is only one star matching\n",
    "        if np.size(loc) > 1:\n",
    "            loc = loc[0]\n",
    "\n",
    "        #record the distance between matching stars\n",
    "        rmin = r[loc]\n",
    "        \n",
    "        #Check whether the closest distance is smaller than rad\n",
    "        if rmin <= rad:\n",
    "            #if yes, save the coordinates and the distance in an array\n",
    "            v_coord.append(c)\n",
    "            modulus.append(rmin.item())\n",
    "            angle.append(np.arctan2(-c[0]+coord2[loc,0], -c[1]+coord2[loc,1]).item())\n",
    "\n",
    "    return np.array(v_coord), np.array(modulus), np.array(angle)"
   ]
  },
  {
   "cell_type": "code",
   "execution_count": 12,
   "metadata": {},
   "outputs": [
    {
     "name": "stdout",
     "output_type": "stream",
     "text": [
      "number of points in reference catalog: 28109\n",
      "point number 0 out of 28109\n",
      "point number 3000 out of 28109\n",
      "point number 6000 out of 28109\n",
      "point number 9000 out of 28109\n",
      "point number 12000 out of 28109\n",
      "point number 15000 out of 28109\n",
      "point number 18000 out of 28109\n",
      "point number 21000 out of 28109\n",
      "point number 24000 out of 28109\n",
      "point number 27000 out of 28109\n"
     ]
    }
   ],
   "source": [
    "coord , r, theta = get_match(c1, c2, 0.3/3600.)"
   ]
  },
  {
   "cell_type": "markdown",
   "metadata": {},
   "source": [
    "Now I would like to have a representation for the work we have done that informs me about what is in my datasets. Namely, what is the error on star positions between the two datasets? We would like to have a global view of this error but also an impression of the error as a function of the position on the field. For the latter, I suggest you use the 'scatter' function from matplotlib.\n"
   ]
  },
  {
   "cell_type": "code",
   "execution_count": 1,
   "metadata": {},
   "outputs": [
    {
     "ename": "NameError",
     "evalue": "name 'plt' is not defined",
     "output_type": "error",
     "traceback": [
      "\u001b[0;31m---------------------------------------------------------------------------\u001b[0m",
      "\u001b[0;31mNameError\u001b[0m                                 Traceback (most recent call last)",
      "\u001b[0;32m<ipython-input-1-26d934e14624>\u001b[0m in \u001b[0;36m<module>\u001b[0;34m\u001b[0m\n\u001b[1;32m      1\u001b[0m \u001b[0;31m#Spatial distribution of distances\u001b[0m\u001b[0;34m\u001b[0m\u001b[0;34m\u001b[0m\u001b[0;34m\u001b[0m\u001b[0m\n\u001b[0;32m----> 2\u001b[0;31m \u001b[0mplt\u001b[0m\u001b[0;34m.\u001b[0m\u001b[0mfigure\u001b[0m\u001b[0;34m(\u001b[0m\u001b[0;36m0\u001b[0m\u001b[0;34m)\u001b[0m\u001b[0;34m\u001b[0m\u001b[0;34m\u001b[0m\u001b[0m\n\u001b[0m\u001b[1;32m      3\u001b[0m \u001b[0mplt\u001b[0m\u001b[0;34m.\u001b[0m\u001b[0mtitle\u001b[0m\u001b[0;34m(\u001b[0m\u001b[0;34m'distribution of distances accross the FoV'\u001b[0m\u001b[0;34m)\u001b[0m\u001b[0;34m\u001b[0m\u001b[0;34m\u001b[0m\u001b[0m\n\u001b[1;32m      4\u001b[0m \u001b[0mplt\u001b[0m\u001b[0;34m.\u001b[0m\u001b[0mscatter\u001b[0m\u001b[0;34m(\u001b[0m\u001b[0mcoord\u001b[0m\u001b[0;34m[\u001b[0m\u001b[0;34m:\u001b[0m\u001b[0;34m,\u001b[0m\u001b[0;36m0\u001b[0m\u001b[0;34m]\u001b[0m\u001b[0;34m,\u001b[0m\u001b[0mcoord\u001b[0m\u001b[0;34m[\u001b[0m\u001b[0;34m:\u001b[0m\u001b[0;34m,\u001b[0m\u001b[0;36m1\u001b[0m\u001b[0;34m]\u001b[0m\u001b[0;34m,\u001b[0m\u001b[0mc\u001b[0m \u001b[0;34m=\u001b[0m \u001b[0mr\u001b[0m\u001b[0;34m,\u001b[0m \u001b[0mcmap\u001b[0m \u001b[0;34m=\u001b[0m \u001b[0;34m'gist_stern'\u001b[0m\u001b[0;34m)\u001b[0m\u001b[0;34m\u001b[0m\u001b[0;34m\u001b[0m\u001b[0m\n\u001b[1;32m      5\u001b[0m \u001b[0mplt\u001b[0m\u001b[0;34m.\u001b[0m\u001b[0mxlabel\u001b[0m\u001b[0;34m(\u001b[0m\u001b[0;34m'ra'\u001b[0m\u001b[0;34m)\u001b[0m\u001b[0;34m\u001b[0m\u001b[0;34m\u001b[0m\u001b[0m\n",
      "\u001b[0;31mNameError\u001b[0m: name 'plt' is not defined"
     ]
    }
   ],
   "source": [
    "#Spatial distribution of distances\n",
    "plt.figure(0)\n",
    "plt.title('distribution of distances accross the FoV')\n",
    "plt.scatter(coord[:,0],coord[:,1],c = r, cmap = 'gist_stern')\n",
    "plt.xlabel('ra')\n",
    "plt.ylabel('dec')\n",
    "plt.colorbar()\n",
    "plt.show()\n",
    "\n",
    "plt.figure(1)\n",
    "plt.title('distribution of angles accross the FoV')\n",
    "plt.scatter(coord[:,0],coord[:,1],c = theta, cmap = 'twilight')\n",
    "plt.xlabel('ra')\n",
    "plt.ylabel('dec')\n",
    "plt.colorbar()\n",
    "plt.show()"
   ]
  },
  {
   "cell_type": "code",
   "execution_count": 13,
   "metadata": {},
   "outputs": [],
   "source": [
    "#Array of plots\n",
    "plt.subplot(121)\n",
    "#In an array of figure of 1 by to, plot number 1 is:\n",
    "plt.title('distances')\n",
    "plt.hist(r*3600, bins = 30)\n",
    "plt.xlabel('r')\n",
    "plt.subplot(122)\n",
    "#In an array of figure of 1 by to, plot number 2 is:\n",
    "plt.title('angles')\n",
    "plt.hist(theta, bins = 30)\n",
    "plt.xlabel('theta')\n",
    "plt.show()"
   ]
  },
  {
   "cell_type": "markdown",
   "metadata": {},
   "source": [
    "Extra bonus question: There is a third dataset in this directory. \n",
    "It issued by gaia and contains the most precise astrometric measurements to date\n",
    "Use it to compare the two datasets and deduce which one is farthest from the truth."
   ]
  }
 ],
 "metadata": {
  "kernelspec": {
   "display_name": "Python 3",
   "language": "python",
   "name": "python3"
  },
  "language_info": {
   "codemirror_mode": {
    "name": "ipython",
    "version": 3
   },
   "file_extension": ".py",
   "mimetype": "text/x-python",
   "name": "python",
   "nbconvert_exporter": "python",
   "pygments_lexer": "ipython3",
   "version": "3.7.1"
  }
 },
 "nbformat": 4,
 "nbformat_minor": 2
}
