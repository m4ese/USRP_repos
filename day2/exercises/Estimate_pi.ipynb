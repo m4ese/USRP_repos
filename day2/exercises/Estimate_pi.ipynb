{
 "cells": [
  {
   "cell_type": "markdown",
   "metadata": {},
   "source": [
    "# Estimate pi\n",
    "Write a program that estimates the value of pi by the 'throw darts at a wall'\n",
    "   method.  That is, generate random `(x,y)` points and see if they fall within\n",
    "   the unit circle, and use these results to estimate pi.  For this exercise,\n",
    "   make a module called `pi_estimate` within a `day2/exercises/yourname` folder.\n",
    "   Make this module not as a single `.py` file, but rather as a folder called\n",
    "   `pi_estimate` with a `__init__.py` file inside.  Besides these instructions,\n",
    "   I will not give any more requirements to how you structure this exercise.\n",
    "   You may want to start with just writing functions and then at some point\n",
    "   reorganize into an object-oriented design.\n",
    "\n",
    "* Do this estimate using 100, 1000, 10,000, and 1e6 points.\n",
    "* How long does the calculation take for different numbers of points?  Make a figure that illustrates how the calculation time depends on the number of points.      \n",
    "* Make a figure that displays the \"darts.\"\n",
    "* Run this calculation many times for a single `N` (number of darts), and plot a histogram of the results.  What is the mean and standard deviation of these estimates?\n",
    "* Make a plot that illustrates the precision of the pi estimate as a function of number of random points used.\n",
    "\n",
    "Make a notebook that demonstrates how your `pi_estimate` module works, as\n",
    "    well as presenting the results of all your calculations.  The notebook\n",
    "    should have minimal complicated code in it; rather, it should initialize\n",
    "    objects and call functions defined within the `pi_estimate` module.\n"
   ]
  },
  {
   "cell_type": "code",
   "execution_count": null,
   "metadata": {},
   "outputs": [],
   "source": [
    "#Entirely your move!"
   ]
  }
 ],
 "metadata": {
  "kernelspec": {
   "display_name": "Python 3",
   "language": "python",
   "name": "python3"
  },
  "language_info": {
   "codemirror_mode": {
    "name": "ipython",
    "version": 3
   },
   "file_extension": ".py",
   "mimetype": "text/x-python",
   "name": "python",
   "nbconvert_exporter": "python",
   "pygments_lexer": "ipython3",
   "version": "3.7.1"
  }
 },
 "nbformat": 4,
 "nbformat_minor": 2
}
