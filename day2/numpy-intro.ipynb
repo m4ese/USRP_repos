{
 "cells": [
  {
   "cell_type": "markdown",
   "metadata": {},
   "source": [
    "# Introduction to numpy"
   ]
  },
  {
   "cell_type": "markdown",
   "metadata": {},
   "source": [
    "   Numpy is a package that contains types and functions for mathematical calculations on arrays. The numpy library is vast and encapsulates a wide range of tools for linear algebra, Fourrier analysis, satistics and much more. The full manual for numpy can be found here:\n",
    "    https://docs.scipy.org/doc/numpy/reference/\n",
    "    \n",
    "   In this tutorial, we will touch on the basics of numpy and see how numpy can be a convenient tool for artithmetic operations on arbitrarilly large arrays. \n",
    "   In addition to this, we will also see a brief introduction to matplotlib, which contains tools to display diagrams or images that help illustrating the results of your calculations.\n",
    "   \n",
    "   Numpy is almost universally import using the alias 'np'. Given that codes using numpy will generally make frequent use of calls to numpy functions or objects, the loss of the 3 letters actually matters."
   ]
  },
  {
   "cell_type": "code",
   "execution_count": 1,
   "metadata": {},
   "outputs": [],
   "source": [
    "# Let's first import the package\n",
    "import numpy as np\n",
    "#Tadaaaa now we have all the power of the mighty numpy at our disposal. \n",
    "#Let's use it responsibly"
   ]
  },
  {
   "cell_type": "markdown",
   "metadata": {},
   "source": [
    "## Numpy's ndarray\n",
    "\n",
    "One of the reasons that makes numpy a great tool for computations on arrays is it ndarray calls. This class allows to declare arrays with a number of convenient methods and attributes that makes our life easier when programming complex algorithms on large arrays."
   ]
  },
  {
   "cell_type": "code",
   "execution_count": 2,
   "metadata": {
    "scrolled": true
   },
   "outputs": [
    {
     "name": "stdout",
     "output_type": "stream",
     "text": [
      "ndarray(shape, dtype=float, buffer=None, offset=0,\n",
      "            strides=None, order=None)\n",
      "\n",
      "    An array object represents a multidimensional, homogeneous array\n",
      "    of fixed-size items.  An associated data-type object describes the\n",
      "    format of each element in the array (its byte-order, how many bytes it\n",
      "    occupies in memory, whether it is an integer, a floating point number,\n",
      "    or something else, etc.)\n",
      "\n",
      "    Arrays should be constructed using `array`, `zeros` or `empty` (refer\n",
      "    to the See Also section below).  The parameters given here refer to\n",
      "    a low-level method (`ndarray(...)`) for instantiating an array.\n",
      "\n",
      "    For more information, refer to the `numpy` module and examine the\n",
      "    methods and attributes of an array.\n",
      "\n",
      "    Parameters\n",
      "    ----------\n",
      "    (for the __new__ method; see Notes below)\n",
      "\n",
      "    shape : tuple of ints\n",
      "        Shape of created array.\n",
      "    dtype : data-type, optional\n",
      "        Any object that can be interpreted as a numpy data type.\n",
      "    buffer : object exposing buffer interface, optional\n",
      "        Used to fill the array with data.\n",
      "    offset : int, optional\n",
      "        Offset of array data in buffer.\n",
      "    strides : tuple of ints, optional\n",
      "        Strides of data in memory.\n",
      "    order : {'C', 'F'}, optional\n",
      "        Row-major (C-style) or column-major (Fortran-style) order.\n",
      "\n",
      "    Attributes\n",
      "    ----------\n",
      "    T : ndarray\n",
      "        Transpose of the array.\n",
      "    data : buffer\n",
      "        The array's elements, in memory.\n",
      "    dtype : dtype object\n",
      "        Describes the format of the elements in the array.\n",
      "    flags : dict\n",
      "        Dictionary containing information related to memory use, e.g.,\n",
      "        'C_CONTIGUOUS', 'OWNDATA', 'WRITEABLE', etc.\n",
      "    flat : numpy.flatiter object\n",
      "        Flattened version of the array as an iterator.  The iterator\n",
      "        allows assignments, e.g., ``x.flat = 3`` (See `ndarray.flat` for\n",
      "        assignment examples; TODO).\n",
      "    imag : ndarray\n",
      "        Imaginary part of the array.\n",
      "    real : ndarray\n",
      "        Real part of the array.\n",
      "    size : int\n",
      "        Number of elements in the array.\n",
      "    itemsize : int\n",
      "        The memory use of each array element in bytes.\n",
      "    nbytes : int\n",
      "        The total number of bytes required to store the array data,\n",
      "        i.e., ``itemsize * size``.\n",
      "    ndim : int\n",
      "        The array's number of dimensions.\n",
      "    shape : tuple of ints\n",
      "        Shape of the array.\n",
      "    strides : tuple of ints\n",
      "        The step-size required to move from one element to the next in\n",
      "        memory. For example, a contiguous ``(3, 4)`` array of type\n",
      "        ``int16`` in C-order has strides ``(8, 2)``.  This implies that\n",
      "        to move from element to element in memory requires jumps of 2 bytes.\n",
      "        To move from row-to-row, one needs to jump 8 bytes at a time\n",
      "        (``2 * 4``).\n",
      "    ctypes : ctypes object\n",
      "        Class containing properties of the array needed for interaction\n",
      "        with ctypes.\n",
      "    base : ndarray\n",
      "        If the array is a view into another array, that array is its `base`\n",
      "        (unless that array is also a view).  The `base` array is where the\n",
      "        array data is actually stored.\n",
      "\n",
      "    See Also\n",
      "    --------\n",
      "    array : Construct an array.\n",
      "    zeros : Create an array, each element of which is zero.\n",
      "    empty : Create an array, but leave its allocated memory unchanged (i.e.,\n",
      "            it contains \"garbage\").\n",
      "    dtype : Create a data-type.\n",
      "\n",
      "    Notes\n",
      "    -----\n",
      "    There are two modes of creating an array using ``__new__``:\n",
      "\n",
      "    1. If `buffer` is None, then only `shape`, `dtype`, and `order`\n",
      "       are used.\n",
      "    2. If `buffer` is an object exposing the buffer interface, then\n",
      "       all keywords are interpreted.\n",
      "\n",
      "    No ``__init__`` method is needed because the array is fully initialized\n",
      "    after the ``__new__`` method.\n",
      "\n",
      "    Examples\n",
      "    --------\n",
      "    These examples illustrate the low-level `ndarray` constructor.  Refer\n",
      "    to the `See Also` section above for easier ways of constructing an\n",
      "    ndarray.\n",
      "\n",
      "    First mode, `buffer` is None:\n",
      "\n",
      "    >>> np.ndarray(shape=(2,2), dtype=float, order='F')\n",
      "    array([[ -1.13698227e+002,   4.25087011e-303],\n",
      "           [  2.88528414e-306,   3.27025015e-309]])         #random\n",
      "\n",
      "    Second mode:\n",
      "\n",
      "    >>> np.ndarray((2,), buffer=np.array([1,2,3]),\n",
      "    ...            offset=np.int_().itemsize,\n",
      "    ...            dtype=int) # offset = 1*itemsize, i.e. skip first element\n",
      "    array([2, 3])\n"
     ]
    }
   ],
   "source": [
    "#Let's take a look at the class:\n",
    "print(np.ndarray.__doc__)\n"
   ]
  },
  {
   "cell_type": "code",
   "execution_count": 3,
   "metadata": {},
   "outputs": [
    {
     "data": {
      "text/plain": [
       "['T',\n",
       " '__abs__',\n",
       " '__add__',\n",
       " '__and__',\n",
       " '__array__',\n",
       " '__array_finalize__',\n",
       " '__array_interface__',\n",
       " '__array_prepare__',\n",
       " '__array_priority__',\n",
       " '__array_struct__',\n",
       " '__array_ufunc__',\n",
       " '__array_wrap__',\n",
       " '__bool__',\n",
       " '__class__',\n",
       " '__complex__',\n",
       " '__contains__',\n",
       " '__copy__',\n",
       " '__deepcopy__',\n",
       " '__delattr__',\n",
       " '__delitem__',\n",
       " '__dir__',\n",
       " '__divmod__',\n",
       " '__doc__',\n",
       " '__eq__',\n",
       " '__float__',\n",
       " '__floordiv__',\n",
       " '__format__',\n",
       " '__ge__',\n",
       " '__getattribute__',\n",
       " '__getitem__',\n",
       " '__gt__',\n",
       " '__hash__',\n",
       " '__iadd__',\n",
       " '__iand__',\n",
       " '__ifloordiv__',\n",
       " '__ilshift__',\n",
       " '__imatmul__',\n",
       " '__imod__',\n",
       " '__imul__',\n",
       " '__index__',\n",
       " '__init__',\n",
       " '__init_subclass__',\n",
       " '__int__',\n",
       " '__invert__',\n",
       " '__ior__',\n",
       " '__ipow__',\n",
       " '__irshift__',\n",
       " '__isub__',\n",
       " '__iter__',\n",
       " '__itruediv__',\n",
       " '__ixor__',\n",
       " '__le__',\n",
       " '__len__',\n",
       " '__lshift__',\n",
       " '__lt__',\n",
       " '__matmul__',\n",
       " '__mod__',\n",
       " '__mul__',\n",
       " '__ne__',\n",
       " '__neg__',\n",
       " '__new__',\n",
       " '__or__',\n",
       " '__pos__',\n",
       " '__pow__',\n",
       " '__radd__',\n",
       " '__rand__',\n",
       " '__rdivmod__',\n",
       " '__reduce__',\n",
       " '__reduce_ex__',\n",
       " '__repr__',\n",
       " '__rfloordiv__',\n",
       " '__rlshift__',\n",
       " '__rmatmul__',\n",
       " '__rmod__',\n",
       " '__rmul__',\n",
       " '__ror__',\n",
       " '__rpow__',\n",
       " '__rrshift__',\n",
       " '__rshift__',\n",
       " '__rsub__',\n",
       " '__rtruediv__',\n",
       " '__rxor__',\n",
       " '__setattr__',\n",
       " '__setitem__',\n",
       " '__setstate__',\n",
       " '__sizeof__',\n",
       " '__str__',\n",
       " '__sub__',\n",
       " '__subclasshook__',\n",
       " '__truediv__',\n",
       " '__xor__',\n",
       " 'all',\n",
       " 'any',\n",
       " 'argmax',\n",
       " 'argmin',\n",
       " 'argpartition',\n",
       " 'argsort',\n",
       " 'astype',\n",
       " 'base',\n",
       " 'byteswap',\n",
       " 'choose',\n",
       " 'clip',\n",
       " 'compress',\n",
       " 'conj',\n",
       " 'conjugate',\n",
       " 'copy',\n",
       " 'ctypes',\n",
       " 'cumprod',\n",
       " 'cumsum',\n",
       " 'data',\n",
       " 'diagonal',\n",
       " 'dot',\n",
       " 'dtype',\n",
       " 'dump',\n",
       " 'dumps',\n",
       " 'fill',\n",
       " 'flags',\n",
       " 'flat',\n",
       " 'flatten',\n",
       " 'getfield',\n",
       " 'imag',\n",
       " 'item',\n",
       " 'itemset',\n",
       " 'itemsize',\n",
       " 'max',\n",
       " 'mean',\n",
       " 'min',\n",
       " 'nbytes',\n",
       " 'ndim',\n",
       " 'newbyteorder',\n",
       " 'nonzero',\n",
       " 'partition',\n",
       " 'prod',\n",
       " 'ptp',\n",
       " 'put',\n",
       " 'ravel',\n",
       " 'real',\n",
       " 'repeat',\n",
       " 'reshape',\n",
       " 'resize',\n",
       " 'round',\n",
       " 'searchsorted',\n",
       " 'setfield',\n",
       " 'setflags',\n",
       " 'shape',\n",
       " 'size',\n",
       " 'sort',\n",
       " 'squeeze',\n",
       " 'std',\n",
       " 'strides',\n",
       " 'sum',\n",
       " 'swapaxes',\n",
       " 'take',\n",
       " 'tobytes',\n",
       " 'tofile',\n",
       " 'tolist',\n",
       " 'tostring',\n",
       " 'trace',\n",
       " 'transpose',\n",
       " 'var',\n",
       " 'view']"
      ]
     },
     "execution_count": 3,
     "metadata": {},
     "output_type": "execute_result"
    }
   ],
   "source": [
    "#And its attributes and methods\n",
    "dir(np.ndarray)"
   ]
  },
  {
   "cell_type": "code",
   "execution_count": 4,
   "metadata": {},
   "outputs": [
    {
     "name": "stdout",
     "output_type": "stream",
     "text": [
      "<class 'numpy.ndarray'>\n",
      "a:  [2.35541533e-312 6.79038654e-313 2.22809558e-312 2.14321575e-312]\n",
      "b:  [[0.00000000e+000 0.00000000e+000 0.00000000e+000 0.00000000e+000]\n",
      " [0.00000000e+000 0.00000000e+000 0.00000000e+000 0.00000000e+000]\n",
      " [0.00000000e+000 1.66148838e-287 1.28822975e-231 1.28822975e-231]]\n"
     ]
    }
   ],
   "source": [
    "#Now let's see what one of its instances looks like:\n",
    "a = np.ndarray(4)\n",
    "b = np.ndarray([3,4])\n",
    "print(type(b))\n",
    "print('a: ', a)\n",
    "print('b: ', b)"
   ]
  },
  {
   "cell_type": "markdown",
   "metadata": {},
   "source": [
    "There is a wide range of numpy functions that allow to declare ndarrays filled with your favourite flavours:\n",
    "\n",
    "https://docs.scipy.org/doc/numpy/reference/routines.array-creation.html"
   ]
  },
  {
   "cell_type": "code",
   "execution_count": 5,
   "metadata": {},
   "outputs": [
    {
     "name": "stdout",
     "output_type": "stream",
     "text": [
      "<class 'numpy.ndarray'>\n",
      "[0. 0. 0. 0. 0.]\n"
     ]
    }
   ],
   "source": [
    "# zeros\n",
    "z = np.zeros(5)\n",
    "print(type(z))\n",
    "print(z)"
   ]
  },
  {
   "cell_type": "code",
   "execution_count": 6,
   "metadata": {},
   "outputs": [
    {
     "name": "stdout",
     "output_type": "stream",
     "text": [
      "<class 'numpy.ndarray'>\n",
      "[[1. 1.]\n",
      " [1. 1.]\n",
      " [1. 1.]\n",
      " [1. 1.]]\n"
     ]
    }
   ],
   "source": [
    "# ones\n",
    "o = np.ones((4,2))\n",
    "print(type(o))\n",
    "print(o)"
   ]
  },
  {
   "cell_type": "code",
   "execution_count": 7,
   "metadata": {},
   "outputs": [
    {
     "name": "stdout",
     "output_type": "stream",
     "text": [
      "<class 'numpy.ndarray'>\n",
      "[0 1 2 3 4 5 6 7 8 9]\n"
     ]
    }
   ],
   "source": [
    "# ordered integers\n",
    "oi = np.arange(10) #Only one-dimensional\n",
    "print(type(oi))\n",
    "print(oi)"
   ]
  },
  {
   "cell_type": "markdown",
   "metadata": {},
   "source": [
    "### Operations on ndarrays\n",
    "\n",
    "Arithmetic operations on ndarrays are possible using python's symbols. It is important to notice that these operations are performed term by term on arrays of same size and dimensions. It is also possible to make operations between ndarrays and numbers, in which case, the same operation is performed on all the elements of the array. This is more generally true for operations on arrays where one array lacks one or several dimensions."
   ]
  },
  {
   "cell_type": "code",
   "execution_count": 8,
   "metadata": {},
   "outputs": [
    {
     "name": "stdout",
     "output_type": "stream",
     "text": [
      "x:  [0 1 2 3 4]\n",
      "y:  [0.71002536 0.43486962 0.63831997 0.08011913 0.32726266]\n"
     ]
    }
   ],
   "source": [
    "#An array of ones\n",
    "x = np.arange(5)\n",
    "#An array of random values drawn uniformly between 0 and 1\n",
    "y = np.random.rand(5)\n",
    "print('x: ', x)\n",
    "print('y: ', y)"
   ]
  },
  {
   "cell_type": "code",
   "execution_count": 9,
   "metadata": {},
   "outputs": [
    {
     "name": "stdout",
     "output_type": "stream",
     "text": [
      "addition:  [0.71002536 1.43486962 2.63831997 3.08011913 4.32726266]\n",
      "mutliplication:  [0.         0.43486962 1.27663994 0.2403574  1.30905065]\n",
      "power:  [0.         1.         1.55651553 1.09200981 1.57409796]\n"
     ]
    }
   ],
   "source": [
    "print('addition: ', x + y)\n",
    "print('mutliplication: ', x * y)\n",
    "print('power: ', x ** y)"
   ]
  },
  {
   "cell_type": "code",
   "execution_count": 10,
   "metadata": {},
   "outputs": [
    {
     "name": "stdout",
     "output_type": "stream",
     "text": [
      "subtraction:  [-3 -2 -1  0  1]\n",
      "fraction:  [0.  0.5 1.  1.5 2. ]\n",
      "power:  [0.         1.         1.41421356 1.73205081 2.        ]\n"
     ]
    }
   ],
   "source": [
    "#Operation with numbers\n",
    "print('subtraction: ', x - 3)\n",
    "print('fraction: ', x / 2)\n",
    "print('power: ', x ** 0.5)"
   ]
  },
  {
   "cell_type": "code",
   "execution_count": 11,
   "metadata": {},
   "outputs": [
    {
     "ename": "ValueError",
     "evalue": "operands could not be broadcast together with shapes (5,) (6,) ",
     "output_type": "error",
     "traceback": [
      "\u001b[0;31m---------------------------------------------------------------------------\u001b[0m",
      "\u001b[0;31mValueError\u001b[0m                                Traceback (most recent call last)",
      "\u001b[0;32m<ipython-input-11-6209477bb9bb>\u001b[0m in \u001b[0;36m<module>\u001b[0;34m\u001b[0m\n\u001b[1;32m      1\u001b[0m \u001b[0;31m#Beware incompatible shapes: (play with the dimensions of y)\u001b[0m\u001b[0;34m\u001b[0m\u001b[0;34m\u001b[0m\u001b[0;34m\u001b[0m\u001b[0m\n\u001b[1;32m      2\u001b[0m \u001b[0my\u001b[0m \u001b[0;34m=\u001b[0m \u001b[0mnp\u001b[0m\u001b[0;34m.\u001b[0m\u001b[0mones\u001b[0m\u001b[0;34m(\u001b[0m\u001b[0;34m(\u001b[0m\u001b[0;36m6\u001b[0m\u001b[0;34m)\u001b[0m\u001b[0;34m)\u001b[0m\u001b[0;34m\u001b[0m\u001b[0;34m\u001b[0m\u001b[0m\n\u001b[0;32m----> 3\u001b[0;31m \u001b[0mprint\u001b[0m\u001b[0;34m(\u001b[0m\u001b[0;34m'addition: '\u001b[0m\u001b[0;34m,\u001b[0m \u001b[0mx\u001b[0m \u001b[0;34m+\u001b[0m \u001b[0my\u001b[0m\u001b[0;34m)\u001b[0m\u001b[0;34m\u001b[0m\u001b[0;34m\u001b[0m\u001b[0m\n\u001b[0m\u001b[1;32m      4\u001b[0m \u001b[0mprint\u001b[0m\u001b[0;34m(\u001b[0m\u001b[0;34m'mutliplication: '\u001b[0m\u001b[0;34m,\u001b[0m \u001b[0mx\u001b[0m \u001b[0;34m*\u001b[0m \u001b[0my\u001b[0m\u001b[0;34m)\u001b[0m\u001b[0;34m\u001b[0m\u001b[0;34m\u001b[0m\u001b[0m\n\u001b[1;32m      5\u001b[0m \u001b[0mprint\u001b[0m\u001b[0;34m(\u001b[0m\u001b[0;34m'power: '\u001b[0m\u001b[0;34m,\u001b[0m \u001b[0mx\u001b[0m \u001b[0;34m**\u001b[0m \u001b[0my\u001b[0m\u001b[0;34m)\u001b[0m\u001b[0;34m\u001b[0m\u001b[0;34m\u001b[0m\u001b[0m\n",
      "\u001b[0;31mValueError\u001b[0m: operands could not be broadcast together with shapes (5,) (6,) "
     ]
    }
   ],
   "source": [
    "#Beware incompatible shapes: (play with the dimensions of y)\n",
    "y = np.ones((6))\n",
    "print('addition: ', x + y)\n",
    "print('mutliplication: ', x * y)\n",
    "print('power: ', x ** y)"
   ]
  },
  {
   "cell_type": "markdown",
   "metadata": {},
   "source": [
    "ndarrays and numpy also have methods or functions to perform matrix operations:"
   ]
  },
  {
   "cell_type": "code",
   "execution_count": 12,
   "metadata": {},
   "outputs": [],
   "source": [
    "#Let's just declare some new arrays\n",
    "x = (np.random.rand(4,5)*10).astype(int) # note, astype is a method that allows to change the type of all the elements in the ndarray\n",
    "y = np.ones((5))+1\n",
    "# Note: here, show addition of non-matching shapes\n",
    "#np.ones((5,3,4))+np.random.randn(4)"
   ]
  },
  {
   "cell_type": "code",
   "execution_count": 13,
   "metadata": {},
   "outputs": [
    {
     "name": "stdout",
     "output_type": "stream",
     "text": [
      "the array x: \n",
      " [[1 2 1 1 5]\n",
      " [6 3 1 6 1]\n",
      " [3 2 9 3 4]\n",
      " [0 3 7 1 5]]\n",
      "its transpose: \n",
      " [[1 6 3 0]\n",
      " [2 3 2 3]\n",
      " [1 1 9 7]\n",
      " [1 6 3 1]\n",
      " [5 1 4 5]]\n"
     ]
    }
   ],
   "source": [
    "#transpose\n",
    "print('the array x: \\n', x)\n",
    "print('its transpose: \\n', x.T)"
   ]
  },
  {
   "cell_type": "code",
   "execution_count": 14,
   "metadata": {},
   "outputs": [
    {
     "name": "stdout",
     "output_type": "stream",
     "text": [
      "[20. 34. 42. 32.]\n",
      "[20. 34. 42. 32.]\n"
     ]
    }
   ],
   "source": [
    "#Matrix multiplication (play with the dimensions of y to see how this impact the results)\n",
    "z1 = np.dot(x,y)\n",
    "z2 = x.dot(y)\n",
    "print(z1)\n",
    "print(z2)\n"
   ]
  },
  {
   "cell_type": "markdown",
   "metadata": {},
   "source": [
    "### ndarray method for simple operations on array elements \n",
    "\n",
    "Here I list a small number of ndarray methods that are very convenient and often used in astronomy and image processing. It is always a good thing to have them in mind to simplfy your code. Of course, we only take a look at a few of them, but there is plenty more where it comes from."
   ]
  },
  {
   "cell_type": "code",
   "execution_count": 15,
   "metadata": {},
   "outputs": [
    {
     "name": "stdout",
     "output_type": "stream",
     "text": [
      "Here are 3 new arrays:\n",
      " [1.  3.5 6. ], \n",
      "\n",
      " [[ 0  1  2  3]\n",
      " [ 4  5  6  7]\n",
      " [ 8  9 10 11]\n",
      " [12 13 14 15]]\n",
      " and \n",
      " [[  1.15176078  -2.83274596 -11.26326049  10.40245995]\n",
      " [ 22.78299066 -12.72256218   1.53934741  27.99788344]\n",
      " [ -8.40377001  13.40163784   9.4279334   -2.5229953 ]]\n"
     ]
    }
   ],
   "source": [
    "a = np.linspace(1,6,3) # 3 values evenly spaced between 1 and 6\n",
    "b = np.arange(16).reshape(4,4)\n",
    "c = np.random.randn(3,4)*10 # random draws from a normal distribution with standard deviation 10\n",
    "print('Here are 3 new arrays:\\n {}, \\n\\n {}\\n and \\n {}'.format(a, b, c))"
   ]
  },
  {
   "cell_type": "code",
   "execution_count": 16,
   "metadata": {},
   "outputs": [
    {
     "name": "stdout",
     "output_type": "stream",
     "text": [
      "Sum over all of the array's elements:  10.5\n",
      "Sum along the lines:  [ 6 22 38 54]\n",
      "Sum along the columns:  [24 28 32 36]\n"
     ]
    }
   ],
   "source": [
    "#Sum the elements of an array\n",
    "print('Sum over all of the array\\'s elements: ', a.sum())\n",
    "print('Sum along the lines: ', b.sum(axis = 1))\n",
    "print('Sum along the columns: ', b.sum(axis = 0))\n",
    "#The axis option will be available for most numpy functions/methods"
   ]
  },
  {
   "cell_type": "code",
   "execution_count": 17,
   "metadata": {},
   "outputs": [
    {
     "name": "stdout",
     "output_type": "stream",
     "text": [
      "mean of an array:  7.5\n",
      "std of an array:  12.440977946221222\n"
     ]
    }
   ],
   "source": [
    "#Compute the mean and standard deviation:\n",
    "print('mean of an array: ', b.mean())\n",
    "print('std of an array: ', c.std())"
   ]
  },
  {
   "cell_type": "code",
   "execution_count": 18,
   "metadata": {},
   "outputs": [
    {
     "name": "stdout",
     "output_type": "stream",
     "text": [
      "the minimum value of array b is 0 and it is at position 0\n",
      "the maximum value of array c is 27.99788343724404 and it is at position 7\n"
     ]
    }
   ],
   "source": [
    "#min and max of an array and teir positions\n",
    "print('the minimum value of array b is {} and it is at position {}'.format(b.min(), b.argmin()))\n",
    "print('the maximum value of array c is {} and it is at position {}'.format(c.max(), c.argmax()))"
   ]
  },
  {
   "cell_type": "code",
   "execution_count": 19,
   "metadata": {},
   "outputs": [
    {
     "name": "stdout",
     "output_type": "stream",
     "text": [
      "c, the indexes that sort c and a sorted verison of c: \n",
      " [[-11.26326049  -2.83274596   1.15176078  10.40245995]\n",
      " [-12.72256218   1.53934741  22.78299066  27.99788344]\n",
      " [ -8.40377001  -2.5229953    9.4279334   13.40163784]], \n",
      " \n",
      " [[2 1 0 3]\n",
      " [1 2 0 3]\n",
      " [0 3 2 1]] and \n",
      " None \n",
      "\n"
     ]
    }
   ],
   "source": [
    "#sort an array's elements along one axis or return the indexes of the sorted array's element:\n",
    "argc = c.argsort()\n",
    "print('c, the indexes that sort c and a sorted verison of c: \\n {}, \\n \\n {} and \\n {} \\n'.format(c,argc,c.sort()))"
   ]
  },
  {
   "cell_type": "markdown",
   "metadata": {},
   "source": [
    "Oups, not what we were expecting, but what happened is that c was replaced by its sorted version. \n",
    "This is an in-place computation."
   ]
  },
  {
   "cell_type": "code",
   "execution_count": 20,
   "metadata": {},
   "outputs": [
    {
     "name": "stdout",
     "output_type": "stream",
     "text": [
      "[[-11.26326049  -2.83274596   1.15176078  10.40245995]\n",
      " [-12.72256218   1.53934741  22.78299066  27.99788344]\n",
      " [ -8.40377001  -2.5229953    9.4279334   13.40163784]]\n"
     ]
    }
   ],
   "source": [
    "print(c)"
   ]
  },
  {
   "cell_type": "code",
   "execution_count": 21,
   "metadata": {},
   "outputs": [],
   "source": [
    "#Your turn now: give me the ALL the elements of c sorted (not just along one axis). \n",
    "\n",
    "#Your answer...."
   ]
  },
  {
   "cell_type": "code",
   "execution_count": 22,
   "metadata": {},
   "outputs": [],
   "source": [
    "#Then, create an array with the same shape as c and its elements are the elements of c sorted in decreasing order.\n",
    "#The returned sorted array should be read from left to right and top to bottom.\n",
    "\n",
    "#Your answer...."
   ]
  },
  {
   "cell_type": "markdown",
   "metadata": {},
   "source": [
    "### array shapes\n",
    "It is possible to access the shape and size (there is a difference!) of an array, and even to alter its shape in various different way."
   ]
  },
  {
   "cell_type": "code",
   "execution_count": 23,
   "metadata": {},
   "outputs": [
    {
     "name": "stdout",
     "output_type": "stream",
     "text": [
      "Shape of x:  (4, 5)\n",
      "Shape of y:  (5,)\n"
     ]
    }
   ],
   "source": [
    "print('Shape of x: ',x.shape) # From ndarray attributes\n",
    "print('Shape of y: ',np.shape(y)) # From numpy function"
   ]
  },
  {
   "cell_type": "code",
   "execution_count": 24,
   "metadata": {},
   "outputs": [
    {
     "name": "stdout",
     "output_type": "stream",
     "text": [
      "Size of x:  20\n",
      "Size of y:  5\n"
     ]
    }
   ],
   "source": [
    "print('Size of x: ', x.size) # From ndarray attributes\n",
    "print('Size of y: ', np.size(y)) # From numpy function"
   ]
  },
  {
   "cell_type": "markdown",
   "metadata": {},
   "source": [
    "Now this is how we can change an array's size:"
   ]
  },
  {
   "cell_type": "code",
   "execution_count": 25,
   "metadata": {},
   "outputs": [
    {
     "name": "stdout",
     "output_type": "stream",
     "text": [
      "the original array: \n",
      " [[1 2 1 1 5]\n",
      " [6 3 1 6 1]\n",
      " [3 2 9 3 4]\n",
      " [0 3 7 1 5]]\n",
      "change of shape: \n",
      " [[1 2]\n",
      " [1 1]\n",
      " [5 6]\n",
      " [3 1]\n",
      " [6 1]\n",
      " [3 2]\n",
      " [9 3]\n",
      " [4 0]\n",
      " [3 7]\n",
      " [1 5]]\n",
      "change of shape and number of dimensions: \n",
      " [[[1 2]\n",
      "  [1 1]]\n",
      "\n",
      " [[5 6]\n",
      "  [3 1]]\n",
      "\n",
      " [[6 1]\n",
      "  [3 2]]\n",
      "\n",
      " [[9 3]\n",
      "  [4 0]]\n",
      "\n",
      " [[3 7]\n",
      "  [1 5]]]\n",
      "the size has to be conserved: \n",
      " 20\n"
     ]
    }
   ],
   "source": [
    "print('the original array: \\n', x)\n",
    "print('change of shape: \\n', x.reshape((10,2)))#reshape 4x5 into 10x2\n",
    "print('change of shape and number of dimensions: \\n', x.reshape((5,2,2)))#reshape 4x5 into 5x2x2\n",
    "print('the size has to be conserved: \\n', x.reshape((10,2)).size)"
   ]
  },
  {
   "cell_type": "code",
   "execution_count": 26,
   "metadata": {},
   "outputs": [
    {
     "name": "stdout",
     "output_type": "stream",
     "text": [
      "flattened array: \n",
      " [1 2 1 1 5 6 3 1 6 1 3 2 9 3 4 0 3 7 1 5] \n",
      " with shape (20,)\n"
     ]
    }
   ],
   "source": [
    "#flattenning an array:\n",
    "xflat = x.flatten()\n",
    "\n",
    "print('flattened array: \\n {} \\n with shape {}'.format(xflat, xflat.shape))\n"
   ]
  },
  {
   "cell_type": "markdown",
   "metadata": {},
   "source": [
    "### Indexing with numpy\n",
    "\n",
    "For the most part, indexing in numpy works exactly as we saw in python. We are going to use this section to introduce a couple of features for indexing (some native from python) that can significantly improve your coding skills. In particular, numpy introduces a particularly useful object: np.newaxis."
   ]
  },
  {
   "cell_type": "code",
   "execution_count": 27,
   "metadata": {},
   "outputs": [
    {
     "name": "stdout",
     "output_type": "stream",
     "text": [
      "[[1 2 1 1 5]\n",
      " [6 3 1 6 1]\n",
      " [3 2 9 3 4]\n",
      " [0 3 7 1 5]]\n",
      "first line of x: [1 2 1 1 5]\n",
      "second column of x: [2 3 2 3]\n",
      "last element of x: 5\n"
     ]
    }
   ],
   "source": [
    "#conventional indexing\n",
    "print(x)\n",
    "print('first line of x: {}'.format(x[0,:]))\n",
    "print('second column of x: {}'.format(x[:,1]))\n",
    "print('last element of x: {}'.format(x[-1,-1]))"
   ]
  },
  {
   "cell_type": "code",
   "execution_count": 28,
   "metadata": {},
   "outputs": [
    {
     "name": "stdout",
     "output_type": "stream",
     "text": [
      "One element in 3 between the second and 13th element:  [2 5 1 3 3]\n",
      "One element in 3 between the second and 13th element:  [2 5 1 3 3]\n",
      "sliced array:  [[6 1]\n",
      " [3 9]]\n"
     ]
    }
   ],
   "source": [
    "#selection \n",
    "print('One element in 3 between the second and 13th element: ', xflat[1:14:3])\n",
    "#This selection writes as array[begin:end:step]\n",
    "#Equivalent to:\n",
    "print('One element in 3 between the second and 13th element: ', xflat[slice(1,14,3)])\n",
    "#Both notations are strictly equivalent, but slice allows to declare slices that can be used in different arrays:\n",
    "sl1 = slice(1,3,1)\n",
    "sl2 = slice(0,-1,2)\n",
    "print('sliced array: ', x[sl1, sl2])"
   ]
  },
  {
   "cell_type": "code",
   "execution_count": 29,
   "metadata": {},
   "outputs": [
    {
     "name": "stdout",
     "output_type": "stream",
     "text": [
      "all numbers greater that 3:  [5 6 6 9 4 7 5]\n",
      "bool arrray is an array of booleans that can be used as indices: \n",
      " [[False False False False False]\n",
      " [False False False False False]\n",
      " [False False False False False]\n",
      " [False False False False False]]\n",
      "all numbers greater that 3:  []\n"
     ]
    }
   ],
   "source": [
    "#conditional indexing\n",
    "print('all numbers greater that 3: ', x[x>3])\n",
    "bool_array = (x == 8)\n",
    "print('bool arrray is an array of booleans that can be used as indices: \\n',bool_array)\n",
    "print('all numbers greater that 3: ', x[bool_array])"
   ]
  },
  {
   "cell_type": "code",
   "execution_count": 30,
   "metadata": {},
   "outputs": [
    {
     "name": "stdout",
     "output_type": "stream",
     "text": [
      "[[[[ 0  1]\n",
      "   [ 2  3]\n",
      "   [ 4  5]\n",
      "   [ 6  7]]\n",
      "\n",
      "  [[ 8  9]\n",
      "   [10 11]\n",
      "   [12 13]\n",
      "   [14 15]]]\n",
      "\n",
      "\n",
      " [[[16 17]\n",
      "   [18 19]\n",
      "   [20 21]\n",
      "   [22 23]]\n",
      "\n",
      "  [[24 25]\n",
      "   [26 27]\n",
      "   [28 29]\n",
      "   [30 31]]]]\n",
      "[[ 1  3  5  7]\n",
      " [ 9 11 13 15]]\n",
      "[[ 1  3  5  7]\n",
      " [ 9 11 13 15]]\n"
     ]
    }
   ],
   "source": [
    "#Ellipsis: select all across all missing dimensions\n",
    "x_multi = np.arange(32).reshape(2,2,4,2)\n",
    "print(x_multi)\n",
    "print(x_multi[0,...,1])\n",
    "print(x_multi[0,:,:,1])"
   ]
  },
  {
   "cell_type": "markdown",
   "metadata": {},
   "source": [
    "Now, we are going to see an important feature in numpy. While one can live without nowing this trick, one cannot be a good python coder without using it. I am talking about the mighty:\n",
    "# Newaxis!!\n",
    "Newaxis allows to add a dimension to an array. This allows to expand arrays in a cheap way, which leads to faster operations on large arrays.\n"
   ]
  },
  {
   "cell_type": "code",
   "execution_count": 58,
   "metadata": {},
   "outputs": [
    {
     "name": "stdout",
     "output_type": "stream",
     "text": [
      "(10,)\n",
      "(1, 10)\n",
      "[0 1 2 3 4 5 6 7 8 9]\n",
      "[[0 1 2 3 4 5 6 7 8 9]]\n",
      "[[ 0  2  4  6  8 10 12 14 16 18]]\n"
     ]
    }
   ],
   "source": [
    "import numpy as np\n",
    "#A couple of arrays first:\n",
    "x_arr = np.arange(10)\n",
    "y_arr = np.arange(10)\n",
    "print(x_arr.shape)\n",
    "x = x_arr[np.newaxis,:]\n",
    "print(x.shape)\n",
    "print(x_arr)\n",
    "print(x)\n",
    "print(x+x_arr)"
   ]
  },
  {
   "cell_type": "code",
   "execution_count": 54,
   "metadata": {},
   "outputs": [
    {
     "name": "stdout",
     "output_type": "stream",
     "text": [
      "Newaxis indexed array [[2]\n",
      " [4]\n",
      " [6]\n",
      " [8]] and its shape (4, 1)\n",
      "None leads to the same result: array [[0 1 2 3]] and shape (1, 4)\n"
     ]
    }
   ],
   "source": [
    "#Now let's index these with newaxes:\n",
    "print('Newaxis indexed array {} and its shape {}'.format(x_arr[:,np.newaxis],x_arr[:,np.newaxis].shape))\n",
    "print('None leads to the same result: array {} and shape {}'.format(y_arr[None,:],y_arr[None,:].shape))"
   ]
  },
  {
   "cell_type": "code",
   "execution_count": 55,
   "metadata": {},
   "outputs": [
    {
     "name": "stdout",
     "output_type": "stream",
     "text": [
      "sum of the arrays: [ 2  5  8 11]\n"
     ]
    }
   ],
   "source": [
    "#Sum of elements\n",
    "print('sum of the arrays:', (x_arr + y_arr))\n"
   ]
  },
  {
   "cell_type": "code",
   "execution_count": 56,
   "metadata": {},
   "outputs": [],
   "source": [
    "#Now sum between all elements in the array: How would you do that?\n"
   ]
  },
  {
   "cell_type": "markdown",
   "metadata": {},
   "source": [
    "# A quick intro to matplotlib\n",
    "\n",
    "When wrinting complex algorithms, it is important to be able to chack that calculations are done properly, but also to be able to display results in a clear manner. When dimaensionality and size are small, it is still possible to rely on printing, but more generally and for better clarity, drawing graphs will come handy"
   ]
  },
  {
   "cell_type": "code",
   "execution_count": null,
   "metadata": {},
   "outputs": [],
   "source": [
    "import matplotlib.pyplot as plt"
   ]
  },
  {
   "cell_type": "code",
   "execution_count": null,
   "metadata": {},
   "outputs": [],
   "source": [
    "%matplotlib inline"
   ]
  },
  {
   "cell_type": "code",
   "execution_count": null,
   "metadata": {},
   "outputs": [],
   "source": [
    "x = np.linspace(0,5,100)"
   ]
  },
  {
   "cell_type": "code",
   "execution_count": null,
   "metadata": {},
   "outputs": [],
   "source": [
    "#Plotting a curve\n",
    "plt.plot(np.exp(x))\n",
    "plt.show()"
   ]
  },
  {
   "cell_type": "code",
   "execution_count": null,
   "metadata": {},
   "outputs": [],
   "source": [
    "#The same curve with the right x-axis in red dashed line\n",
    "plt.plot(x, np.exp(x), '--r')\n",
    "plt.show()"
   ]
  },
  {
   "cell_type": "code",
   "execution_count": null,
   "metadata": {},
   "outputs": [],
   "source": []
  }
 ],
 "metadata": {
  "kernelspec": {
   "display_name": "Python 3",
   "language": "python",
   "name": "python3"
  },
  "language_info": {
   "codemirror_mode": {
    "name": "ipython",
    "version": 3
   },
   "file_extension": ".py",
   "mimetype": "text/x-python",
   "name": "python",
   "nbconvert_exporter": "python",
   "pygments_lexer": "ipython3",
   "version": "3.7.1"
  }
 },
 "nbformat": 4,
 "nbformat_minor": 1
}
