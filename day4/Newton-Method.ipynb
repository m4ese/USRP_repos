{
 "cells": [
  {
   "cell_type": "markdown",
   "metadata": {},
   "source": [
    "# Newton's Method for finding a root\n",
    "\n",
    "\n",
    "[Newton's method](https://en.wikipedia.org/wiki/Newton's_method) uses a clever insight to iteratively home in on the root of a function $f$. The central idea is to approximate $f$ by its tangent at some initial position $x_0$:\n",
    "\n",
    "$$\n",
    "y = f'(x_0) (x-x_0) + f(x_0)\n",
    "$$\n",
    "\n",
    "The $x$-intercept of this line is then closer to the root than the starting position $x_0$. That is, we need to solve the linear relation\n",
    "\n",
    "$$\n",
    "f'(x_n)(x_1-x_0) + f(x_0) = 0\n",
    "$$\n",
    "\n",
    "for the updated position $x_1 = x_0 - f(x_0)/f'(x_0)$. Repeating this sequence\n",
    "\n",
    "$$\n",
    "x_{n+1} = x_n - \\frac{f(x_n)}{f'(x_n)}\n",
    "$$\n",
    "\n",
    "will yield a fixed point, which is the root of $f$ *if one exists in the vicinity of $x_0$*."
   ]
  },
  {
   "cell_type": "code",
   "execution_count": null,
   "metadata": {
    "collapsed": true,
    "deletable": true,
    "editable": true
   },
   "outputs": [],
   "source": [
    "def newtons_method(f, df, x0, tol=1E-6):\n",
    "    x_n = x0    \n",
    "    while abs(f(x_n)) > tol:\n",
    "        x_n = x_n - f(x_n)/df(x_n)\n",
    "    return x_n"
   ]
  },
  {
   "cell_type": "markdown",
   "metadata": {},
   "source": [
    "## Minimizing a function\n",
    "\n",
    "As the maximum and minimum of a function are defined by $f'(x) = 0$, we can use Newton's method to find extremal points by applying it to the first derivative. Let's try this with a simply function with known minimum:"
   ]
  },
  {
   "cell_type": "code",
   "execution_count": null,
   "metadata": {
    "collapsed": true,
    "deletable": true,
    "editable": true
   },
   "outputs": [],
   "source": [
    "# define a test function\n",
    "def f(x):\n",
    "    return (x-3)**2 - 9\n",
    "\n",
    "def df(x):\n",
    "    return 2*(x-3)\n",
    "\n",
    "def df2(x):\n",
    "    return 2."
   ]
  },
  {
   "cell_type": "code",
   "execution_count": null,
   "metadata": {
    "collapsed": false,
    "deletable": true,
    "editable": true
   },
   "outputs": [],
   "source": [
    "root = newtons_method(f, df, x0=0.1)\n",
    "print (\"root {0}, f(root) = {1}\".format(root, f(root)))"
   ]
  },
  {
   "cell_type": "code",
   "execution_count": null,
   "metadata": {
    "collapsed": false,
    "deletable": true,
    "editable": true
   },
   "outputs": [],
   "source": [
    "minimum = newtons_method(df, df2, x0=0.1)\n",
    "print (\"minimum {0}, f'(minimum) = {1}\".format(minimum, df(minimum)))"
   ]
  },
  {
   "cell_type": "markdown",
   "metadata": {},
   "source": [
    "There is an important qualifier in the statement about fixed points: **a root needs to exist in the vicinity of $x_0$!** Let's see what happens if that's not the case:"
   ]
  },
  {
   "cell_type": "code",
   "execution_count": null,
   "metadata": {
    "collapsed": false
   },
   "outputs": [],
   "source": [
    "def g(x):\n",
    "    return (x-3)**2 + 1\n",
    "dg = df # same derivatives for f and g\n",
    "newtons_method(g, dg, x0=0.1)"
   ]
  },
  {
   "cell_type": "markdown",
   "metadata": {},
   "source": [
    "As long as you don't interrupt the execution of this cell (Tip: click \"Interrupt Kernel\"), `newtons_method` will not terminate and come back with a result.\n",
    "\n",
    "With a little more defensive programming we can make sure that the function will terminate after a given number of iterations:"
   ]
  },
  {
   "cell_type": "code",
   "execution_count": null,
   "metadata": {
    "collapsed": true,
    "deletable": true,
    "editable": true
   },
   "outputs": [],
   "source": [
    "def newtons_method2(f, df, x0, tol=1E-6, maxiter=100000):\n",
    "    x_n = x0    \n",
    "    for _ in range(maxiter):\n",
    "        x_n = x_n - f(x_n)/df(x_n)\n",
    "        \n",
    "        if abs(f(x_n)) < tol:\n",
    "            return x_n\n",
    "        \n",
    "    raise RuntimeError(\"Failed to find a minimum within {} iterations \".format(maxiter))"
   ]
  },
  {
   "cell_type": "code",
   "execution_count": null,
   "metadata": {
    "collapsed": false
   },
   "outputs": [],
   "source": [
    "newtons_method2(g, dg, x0=0.1)"
   ]
  },
  {
   "cell_type": "markdown",
   "metadata": {},
   "source": [
    "## Using scipy.optimize\n",
    "\n",
    "scipy comes with a pretty feature-rich [optimization package](https://docs.scipy.org/doc/scipy/reference/optimize.html), for one- and multi-dimensional optimization. As so often, it's better (as in faster and more reliable) to leverage exisiting and battle-tested code than to try to implement it yourself.\n",
    "\n",
    "### Exercise 1:\n",
    "\n",
    "Find the minimum of `f` with `scipy.optimize.minimize_scalar`. When done, visualize your result to confirm its correctness."
   ]
  },
  {
   "cell_type": "code",
   "execution_count": null,
   "metadata": {},
   "outputs": [],
   "source": []
  },
  {
   "cell_type": "markdown",
   "metadata": {},
   "source": [
    "To make this more interesting, we'll create a new  multi-dimensional function that resembles `f`:"
   ]
  },
  {
   "cell_type": "code",
   "execution_count": null,
   "metadata": {},
   "outputs": [],
   "source": [
    "def h(x, p):\n",
    "    return np.sum((x-3)**p, axis=-1) - 9"
   ]
  },
  {
   "cell_type": "markdown",
   "metadata": {},
   "source": [
    "### Exercise 2:\n",
    "\n",
    "In 2D, find the minimum of `h` for `p=2` with `scipy.optimimze.minimize`. Note that you have not been given a derivative of `h`. You can choose to compute it analytically, or see if `minimize` has options that allow you to work without.\n",
    "\n",
    "When done, visualize your result to confirm its correctness."
   ]
  },
  {
   "cell_type": "code",
   "execution_count": null,
   "metadata": {},
   "outputs": [],
   "source": []
  }
 ],
 "metadata": {
  "anaconda-cloud": {},
  "kernelspec": {
   "display_name": "Python 3",
   "language": "python",
   "name": "python3"
  },
  "language_info": {
   "codemirror_mode": {
    "name": "ipython",
    "version": 3
   },
   "file_extension": ".py",
   "mimetype": "text/x-python",
   "name": "python",
   "nbconvert_exporter": "python",
   "pygments_lexer": "ipython3",
   "version": "3.7.3"
  }
 },
 "nbformat": 4,
 "nbformat_minor": 2
}
